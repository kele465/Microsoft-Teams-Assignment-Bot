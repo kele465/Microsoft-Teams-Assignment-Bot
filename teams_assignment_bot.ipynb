{
 "cells": [
  {
   "cell_type": "code",
   "execution_count": 1,
   "id": "8d1308c4",
   "metadata": {},
   "outputs": [],
   "source": [
    "import selenium\n",
    "from selenium import webdriver\n",
    "from selenium.webdriver.common.keys import Keys\n",
    "from selenium.webdriver.common.by import By\n",
    "from webdriver_manager.chrome import ChromeDriverManager\n",
    "import random\n",
    "import time\n",
    "from selenium.webdriver.support import expected_conditions as EC\n",
    "from selenium.webdriver.support.ui import WebDriverWait"
   ]
  },
  {
   "cell_type": "code",
   "execution_count": null,
   "id": "1bda77bd",
   "metadata": {},
   "outputs": [],
   "source": [
    "email = ''\n",
    "password = ''"
   ]
  },
  {
   "cell_type": "code",
   "execution_count": 2,
   "id": "dd8ae287",
   "metadata": {},
   "outputs": [
    {
     "name": "stderr",
     "output_type": "stream",
     "text": [
      "d:\\python\\lib\\site-packages\\ipykernel_launcher.py:2: DeprecationWarning: executable_path has been deprecated, please pass in a Service object\n",
      "  \n"
     ]
    }
   ],
   "source": [
    "executable_path=\"chromedriver.exe\"\n",
    "driver = webdriver.Chrome(executable_path)\n",
    "\n",
    "driver.get(\"https://login.microsoftonline.com/common/oauth2/v2.0/authorize?response_type=id_token&scope=openid%20profile&client_id=5e3ce6c0-2b1f-4285-8d4b-75ee78787346&redirect_uri=https%3A%2F%2Fteams.microsoft.com%2Fgo&state=eyJpZCI6ImFkMGIyOTJjLTQyNGItNDI5YS04NjVlLWJkNzcxNDMwMmVhZSIsInRzIjoxNjY3MTY4MTEwLCJtZXRob2QiOiJyZWRpcmVjdEludGVyYWN0aW9uIn0%3D&nonce=da982189-a6be-4a2a-8cf9-a2158b5f95b7&client_info=1&x-client-SKU=MSAL.JS&x-client-Ver=1.3.4&client-request-id=0b4659df-0d37-42d1-94cf-9d9017f331f3&response_mode=fragment\")\n",
    "time.sleep(5)"
   ]
  },
  {
   "cell_type": "code",
   "execution_count": 3,
   "id": "8cc8878c",
   "metadata": {},
   "outputs": [],
   "source": [
    "email = driver.find_element(By.CSS_SELECTOR, \"input[name='loginfmt']\")\n",
    "email.send_keys(email)\n",
    "time.sleep(2)"
   ]
  },
  {
   "cell_type": "code",
   "execution_count": 4,
   "id": "d8522481",
   "metadata": {},
   "outputs": [],
   "source": [
    "email_submit = driver.find_element(By.CSS_SELECTOR, \"input[type='submit']\").click()\n",
    "time.sleep(5)"
   ]
  },
  {
   "cell_type": "code",
   "execution_count": 5,
   "id": "e34a974a",
   "metadata": {},
   "outputs": [],
   "source": [
    "password = driver.find_element(By.CSS_SELECTOR, \"input[name='passwd']\")\n",
    "password.send_keys(password)\n",
    "time.sleep(2)"
   ]
  },
  {
   "cell_type": "code",
   "execution_count": null,
   "id": "7ba1df9f",
   "metadata": {},
   "outputs": [],
   "source": [
    "password_submit = driver.find_element(By.CSS_SELECTOR, \"input[type='submit']\").click()\n",
    "time.sleep(2)"
   ]
  },
  {
   "cell_type": "code",
   "execution_count": null,
   "id": "19d1656f",
   "metadata": {},
   "outputs": [],
   "source": [
    "stay_sign = driver.find_element(By.CSS_SELECTOR, \"input[type='button']\").click()\n",
    "time.sleep(2)"
   ]
  },
  {
   "cell_type": "code",
   "execution_count": null,
   "id": "c365508c",
   "metadata": {},
   "outputs": [],
   "source": [
    "select_account = driver.find_element(By.CLASS_NAME, \"table\").click()\n",
    "time.sleep(2)"
   ]
  },
  {
   "cell_type": "code",
   "execution_count": null,
   "id": "f76d2cf6",
   "metadata": {},
   "outputs": [],
   "source": [
    "assignment = driver.find_element(By.CSS_SELECTOR, \"button[aria-label='Assignments Toolbar']\").click()\n",
    "time.sleep(2)"
   ]
  },
  {
   "cell_type": "code",
   "execution_count": null,
   "id": "9d8bf8db",
   "metadata": {},
   "outputs": [],
   "source": [
    "# select_assignment = driver.find_element(By.XPATH, '//*[@id=\"list-view-current-day\"]/div/div').click()\n",
    "# time.sleep(2)\n",
    "\n",
    "click_assignment = WebDriverWait(driver, 5).until(EC.element_to_be_clickable((By.XPATH, '//*[@id=\"root\"]/div/div/div')))\n",
    "click_assignment.click()\n",
    "\n",
    "\n"
   ]
  },
  {
   "cell_type": "code",
   "execution_count": null,
   "id": "414f66a1",
   "metadata": {},
   "outputs": [],
   "source": [
    "# download_assignment = WebDriverWait(driver, 5).until(EC.element_to_be_clickable((By.XPATH, '//*[@id=\"assignmentViewerVisibilityContainer\"]/div[2]/div/div[1]/div[3]/div/div/div/div/div/button[2]/span/svg')))\n",
    "# download_assignment.click()\n"
   ]
  },
  {
   "cell_type": "code",
   "execution_count": null,
   "id": "b640ca95",
   "metadata": {},
   "outputs": [],
   "source": []
  }
 ],
 "metadata": {
  "kernelspec": {
   "display_name": "Python 3 (ipykernel)",
   "language": "python",
   "name": "python3"
  },
  "language_info": {
   "codemirror_mode": {
    "name": "ipython",
    "version": 3
   },
   "file_extension": ".py",
   "mimetype": "text/x-python",
   "name": "python",
   "nbconvert_exporter": "python",
   "pygments_lexer": "ipython3",
   "version": "3.7.0"
  }
 },
 "nbformat": 4,
 "nbformat_minor": 5
}
